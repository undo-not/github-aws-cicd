{
  "nbformat": 4,
  "nbformat_minor": 0,
  "metadata": {
    "colab": {
      "name": "AutoFriends",
      "provenance": [],
      "collapsed_sections": [],
      "include_colab_link": true
    },
    "kernelspec": {
      "display_name": "Python 3",
      "name": "python3"
    }
  },
  "cells": [
    {
      "cell_type": "markdown",
      "metadata": {
        "id": "view-in-github",
        "colab_type": "text"
      },
      "source": [
        "<a href=\"https://colab.research.google.com/github/have-not/github-aws-cicd/blob/master/AutoFriends.ipynb\" target=\"_parent\"><img src=\"https://colab.research.google.com/assets/colab-badge.svg\" alt=\"Open In Colab\"/></a>"
      ]
    },
    {
      "cell_type": "code",
      "metadata": {
        "id": "69LB0Z2lPqgj"
      },
      "source": [
        "!pip install tweepy"
      ],
      "execution_count": null,
      "outputs": []
    },
    {
      "cell_type": "code",
      "metadata": {
        "id": "6W3wpQQRVBOS"
      },
      "source": [
        "import time\n",
        "import tweepy\n",
        "import random\n",
        "import os\n",
        "import datetime"
      ],
      "execution_count": null,
      "outputs": []
    },
    {
      "cell_type": "code",
      "metadata": {
        "id": "keWtjmq_j1r8"
      },
      "source": [
        "from google.colab import drive\n",
        "drive.mount('/content/drive')"
      ],
      "execution_count": null,
      "outputs": []
    },
    {
      "cell_type": "code",
      "metadata": {
        "id": "13kreq9tQCJh"
      },
      "source": [
        "consumer_key = '' # Consumer API key\n",
        "consumer_secret = '' # Consumer API Secret key\n",
        "access_token_key = '' # Access token\n",
        "access_token_secret = '' # Access token secret"
      ],
      "execution_count": null,
      "outputs": []
    },
    {
      "cell_type": "code",
      "metadata": {
        "id": "EeQ7LV94vmDu"
      },
      "source": [
        "auth = tweepy.OAuthHandler(consumer_key, consumer_secret)\n",
        "auth.set_access_token(access_token_key, access_token_secret)\n",
        "api = tweepy.API(auth)"
      ],
      "execution_count": null,
      "outputs": []
    },
    {
      "cell_type": "code",
      "metadata": {
        "id": "5dRf8h_B0JHS"
      },
      "source": [
        "my_user_id = ''"
      ],
      "execution_count": null,
      "outputs": []
    },
    {
      "cell_type": "code",
      "metadata": {
        "id": "RPK3iAljrSk4"
      },
      "source": [
        "new_dir_path_recursive = '/content/data/Twitter/friend/'\n",
        "if not os.path.exists(new_dir_path_recursive):\n",
        "    os.makedirs(new_dir_path_recursive)"
      ],
      "execution_count": null,
      "outputs": []
    },
    {
      "cell_type": "code",
      "metadata": {
        "id": "aL9XIS4olhAp"
      },
      "source": [
        "def save_id(id, filepath):\n",
        "    with open(filepath, 'a') as f:\n",
        "        print(id, file=f)"
      ],
      "execution_count": null,
      "outputs": []
    },
    {
      "cell_type": "code",
      "metadata": {
        "id": "ur_cbEwHmQ-n"
      },
      "source": [
        "def get_ids_fromfile(filepath):\n",
        "    datalist = []\n",
        "    if os.path.exists(filepath):\n",
        "        with open(filepath, 'r') as f:\n",
        "            datalist = f.readlines()\n",
        "    return datalist"
      ],
      "execution_count": null,
      "outputs": []
    },
    {
      "cell_type": "code",
      "metadata": {
        "id": "gR_hl4Uz2lhq"
      },
      "source": [
        "def get_followers_ids():\n",
        "    followers_ids = []\n",
        "    try:\n",
        "          followers_ids = api.followers_ids()\n",
        "    except tweepy.RateLimitError as e:\n",
        "        raise e\n",
        "    except tweepy.TweepError as e:\n",
        "        raise e\n",
        "    else:\n",
        "        return followers_ids"
      ],
      "execution_count": null,
      "outputs": []
    },
    {
      "cell_type": "code",
      "metadata": {
        "id": "suNoHh09dcuU"
      },
      "source": [
        "def norefollow_ids(filepath):\n",
        "    try:\n",
        "        #特定日のフォローがまだ片思いの人の一覧を取得\n",
        "        followers_ids = get_followers_ids()\n",
        "        temp_friends_ids = get_ids_fromfile(filepath)\n",
        "\n",
        "        #特定日のフォローがまだ片思いの人の一覧を取得\n",
        "        ids = list(set(temp_friends_ids) - set(followers_ids))\n",
        "    except tweepy.RateLimitError as e:\n",
        "        raise e\n",
        "    except tweepy.TweepError as e:\n",
        "        raise e\n",
        "    else:\n",
        "        return ids"
      ],
      "execution_count": null,
      "outputs": []
    },
    {
      "cell_type": "code",
      "metadata": {
        "id": "yUZRI7APJ4yP"
      },
      "source": [
        "def remove_friends(filepath):\n",
        "    for i in range(3):\n",
        "        try:\n",
        "            ids = norefollow_ids(filepath)\n",
        "        except tweepy.RateLimitError as e:\n",
        "            print(e)\n",
        "            time.sleep(15 * 60)\n",
        "        except tweepy.TweepError as e:\n",
        "            print(e)\n",
        "            time.sleep(5 * 60)\n",
        "            break\n",
        "        else:\n",
        "            time.sleep(1)\n",
        "            break\n",
        "\n",
        "\n",
        "    for id in ids:\n",
        "        for i in range(3):\n",
        "            try:\n",
        "                api.destroy_friendship(id)\n",
        "                print(str(id) + 'をリムーブ')\n",
        "                time.sleep(1)\n",
        "            except tweepy.RateLimitError as e:\n",
        "                print(e)\n",
        "                time.sleep(15 * 60)\n",
        "            except tweepy.TweepError as e:\n",
        "                print(e)\n",
        "                time.sleep(5 * 60)\n",
        "                break\n",
        "            else:\n",
        "                time.sleep(1)\n",
        "                break\n",
        "\n",
        "    #ファイルを削除"
      ],
      "execution_count": null,
      "outputs": []
    },
    {
      "cell_type": "code",
      "metadata": {
        "id": "ght7Slb3BsnC"
      },
      "source": [
        "def delete_retweet(id):\n",
        "    try:\n",
        "      status = api.get_status(ID, include_my_retweet=1)\n",
        "      if status.retweeted == True:\n",
        "          api.destroy_status(status.current_user_retweet['id'])\n",
        "    except tweepy.RateLimitError as e:\n",
        "        raise e\n",
        "    except tweepy.TweepError as e:\n",
        "        raise e"
      ],
      "execution_count": null,
      "outputs": []
    },
    {
      "cell_type": "code",
      "metadata": {
        "id": "HJBrTUQfGqHP"
      },
      "source": [
        "def delete_retweets(filepath):\n",
        "    #過去のリツイートのツイートIDを取得\n",
        "    old_tweet_ids = get_ids_fromfile(filepath)\n",
        "\n",
        "    for tweet_id in old_tweet_ids:\n",
        "        for i in range(3):\n",
        "            try:\n",
        "                  delete_retweet(id)\n",
        "                  print('リツイート削除に成功しました')\n",
        "            except tweepy.RateLimitError as e:\n",
        "                print(e)\n",
        "                time.sleep(15 * 60)\n",
        "            except tweepy.TweepError as e:\n",
        "                print(e)\n",
        "                time.sleep(5 * 60)\n",
        "                break\n",
        "            else:\n",
        "                time.sleep(1)\n",
        "                break\n",
        "                \n",
        "    #ファイルを削除"
      ],
      "execution_count": null,
      "outputs": []
    },
    {
      "cell_type": "code",
      "metadata": {
        "id": "8zfkI8sgH15j"
      },
      "source": [
        " def search_tweets(q, sinceDate):\n",
        "    for i in range(3):\n",
        "        try:\n",
        "          results = tweepy.Cursor(api.search, q=q, tweet_mode='extended', since = sinceDate, result_type=\"mixed\", include_entities=True).items()\n",
        "        except tweepy.RateLimitError as e:\n",
        "            print(e)\n",
        "            time.sleep(15 * 60)\n",
        "        except tweepy.TweepError as e:\n",
        "            print(e)\n",
        "            time.sleep(5 * 60)\n",
        "            break\n",
        "        else:\n",
        "            return results"
      ],
      "execution_count": null,
      "outputs": []
    },
    {
      "cell_type": "code",
      "metadata": {
        "id": "zmYRIeLBP99X"
      },
      "source": [
        "def create_frend(q, todaystr, sinceDate):\n",
        "\n",
        "    # Twitterの検索結果を取得\n",
        "    results = search_tweets(q, sinceDate)\n",
        "\n",
        "    for result in results:\n",
        "        screen_name = result.user.screen_name\n",
        "        is_following = result.user._json['following']\n",
        "        if screen_name == my_user_id:\n",
        "            print('自分')\n",
        "        else:\n",
        "            if is_following:\n",
        "                print('@' + screen_name + 'はフォロー済み')\n",
        "                time.sleep(30)\n",
        "            else:\n",
        "                print('@' + screen_name + 'をフォロー処理中...')\n",
        "                for i in range(3): #RateLimitにかかったら3回までリトライ\n",
        "                    try:\n",
        "                        api.create_friendship(screen_name)\n",
        "                        save_id(result.user.id, '/content/data/Twitter/friend/' + todaystr)\n",
        "                        api.retweet(result.id)\n",
        "                        save_id(result.user.id, '/content/data/Twitter/retweet/' + todaystr)\n",
        "                        print('フォローに成功しました')\n",
        "                    except tweepy.RateLimitError as e:\n",
        "                        print(e)\n",
        "                        time.sleep(15 * 60)\n",
        "                    except tweepy.TweepError as e:\n",
        "                        print(e)\n",
        "                        time.sleep(5 * 60)\n",
        "                        break\n",
        "                    else:\n",
        "                        time.sleep(3 * 60)\n",
        "                        break"
      ],
      "execution_count": null,
      "outputs": []
    },
    {
      "cell_type": "code",
      "metadata": {
        "id": "q97OxhFhwKpq"
      },
      "source": [
        "def main():\n",
        "\n",
        "    while True:\n",
        "    #今日日付と過去の一覧を取得したい日付を設定\n",
        "        today = datetime.date.today()\n",
        "        todaystr = today.strftime('%Y%m%d')\n",
        "        pastdaystr = (today - datetime.timedelta(days=3)).strftime('%Y%m%d')\n",
        "\n",
        "        delete_retweets('/content/data/Twitter/retweet/' + pastdaystr)\n",
        "\n",
        "        remove_friends('/content/data/Twitter/friend/' + pastdaystr)\n",
        "\n",
        "        q = f\"フォロバ100%20おはよ%20-filter%3Areplies%20-filter%3Aretweets\"\n",
        "        create_frend(q, todaystr, today - datetime.timedelta(days=1))\n",
        "\n",
        "if __name__ == \"__main__\":\n",
        "    main()"
      ],
      "execution_count": null,
      "outputs": []
    }
  ]
}